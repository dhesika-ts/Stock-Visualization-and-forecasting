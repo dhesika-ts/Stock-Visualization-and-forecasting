{
 "cells": [
  {
   "cell_type": "code",
   "execution_count": 69,
   "id": "3ecd8c5a",
   "metadata": {},
   "outputs": [],
   "source": [
    "#importing python libraries\n",
    "import math\n",
    "import pandas as pd\n",
    "import numpy as np\n",
    "import pandas_datareader as pdd\n",
    "from sklearn.preprocessing import MinMaxScaler\n",
    "from keras.models import Sequential,load_model\n",
    "from keras.layers import LSTM,Dropout,Dense\n",
    "import matplotlib.pyplot as plt"
   ]
  },
  {
   "cell_type": "code",
   "execution_count": 70,
   "id": "659a1956",
   "metadata": {},
   "outputs": [
    {
     "data": {
      "text/html": [
       "<div>\n",
       "<style scoped>\n",
       "    .dataframe tbody tr th:only-of-type {\n",
       "        vertical-align: middle;\n",
       "    }\n",
       "\n",
       "    .dataframe tbody tr th {\n",
       "        vertical-align: top;\n",
       "    }\n",
       "\n",
       "    .dataframe thead th {\n",
       "        text-align: right;\n",
       "    }\n",
       "</style>\n",
       "<table border=\"1\" class=\"dataframe\">\n",
       "  <thead>\n",
       "    <tr style=\"text-align: right;\">\n",
       "      <th></th>\n",
       "      <th>High</th>\n",
       "      <th>Low</th>\n",
       "      <th>Open</th>\n",
       "      <th>Close</th>\n",
       "      <th>Volume</th>\n",
       "      <th>Adj Close</th>\n",
       "    </tr>\n",
       "    <tr>\n",
       "      <th>Date</th>\n",
       "      <th></th>\n",
       "      <th></th>\n",
       "      <th></th>\n",
       "      <th></th>\n",
       "      <th></th>\n",
       "      <th></th>\n",
       "    </tr>\n",
       "  </thead>\n",
       "  <tbody>\n",
       "    <tr>\n",
       "      <th>2015-12-31</th>\n",
       "      <td>26.757500</td>\n",
       "      <td>26.205000</td>\n",
       "      <td>26.752501</td>\n",
       "      <td>26.315001</td>\n",
       "      <td>163649200.0</td>\n",
       "      <td>24.199892</td>\n",
       "    </tr>\n",
       "    <tr>\n",
       "      <th>2016-01-04</th>\n",
       "      <td>26.342501</td>\n",
       "      <td>25.500000</td>\n",
       "      <td>25.652500</td>\n",
       "      <td>26.337500</td>\n",
       "      <td>270597600.0</td>\n",
       "      <td>24.220579</td>\n",
       "    </tr>\n",
       "    <tr>\n",
       "      <th>2016-01-05</th>\n",
       "      <td>26.462500</td>\n",
       "      <td>25.602501</td>\n",
       "      <td>26.437500</td>\n",
       "      <td>25.677500</td>\n",
       "      <td>223164000.0</td>\n",
       "      <td>23.613626</td>\n",
       "    </tr>\n",
       "    <tr>\n",
       "      <th>2016-01-06</th>\n",
       "      <td>25.592501</td>\n",
       "      <td>24.967501</td>\n",
       "      <td>25.139999</td>\n",
       "      <td>25.174999</td>\n",
       "      <td>273829600.0</td>\n",
       "      <td>23.151514</td>\n",
       "    </tr>\n",
       "    <tr>\n",
       "      <th>2016-01-07</th>\n",
       "      <td>25.032499</td>\n",
       "      <td>24.107500</td>\n",
       "      <td>24.670000</td>\n",
       "      <td>24.112499</td>\n",
       "      <td>324377600.0</td>\n",
       "      <td>22.174419</td>\n",
       "    </tr>\n",
       "    <tr>\n",
       "      <th>...</th>\n",
       "      <td>...</td>\n",
       "      <td>...</td>\n",
       "      <td>...</td>\n",
       "      <td>...</td>\n",
       "      <td>...</td>\n",
       "      <td>...</td>\n",
       "    </tr>\n",
       "    <tr>\n",
       "      <th>2021-10-25</th>\n",
       "      <td>149.369995</td>\n",
       "      <td>147.619995</td>\n",
       "      <td>148.679993</td>\n",
       "      <td>148.639999</td>\n",
       "      <td>50720600.0</td>\n",
       "      <td>148.234528</td>\n",
       "    </tr>\n",
       "    <tr>\n",
       "      <th>2021-10-26</th>\n",
       "      <td>150.839996</td>\n",
       "      <td>149.009995</td>\n",
       "      <td>149.330002</td>\n",
       "      <td>149.320007</td>\n",
       "      <td>60893400.0</td>\n",
       "      <td>148.912674</td>\n",
       "    </tr>\n",
       "    <tr>\n",
       "      <th>2021-10-27</th>\n",
       "      <td>149.729996</td>\n",
       "      <td>148.490005</td>\n",
       "      <td>149.360001</td>\n",
       "      <td>148.850006</td>\n",
       "      <td>56094900.0</td>\n",
       "      <td>148.443954</td>\n",
       "    </tr>\n",
       "    <tr>\n",
       "      <th>2021-10-28</th>\n",
       "      <td>153.169998</td>\n",
       "      <td>149.720001</td>\n",
       "      <td>149.820007</td>\n",
       "      <td>152.570007</td>\n",
       "      <td>100077900.0</td>\n",
       "      <td>152.153809</td>\n",
       "    </tr>\n",
       "    <tr>\n",
       "      <th>2021-10-29</th>\n",
       "      <td>149.940002</td>\n",
       "      <td>146.410004</td>\n",
       "      <td>147.220001</td>\n",
       "      <td>149.800003</td>\n",
       "      <td>124850400.0</td>\n",
       "      <td>149.391357</td>\n",
       "    </tr>\n",
       "  </tbody>\n",
       "</table>\n",
       "<p>1469 rows × 6 columns</p>\n",
       "</div>"
      ],
      "text/plain": [
       "                  High         Low        Open       Close       Volume  \\\n",
       "Date                                                                      \n",
       "2015-12-31   26.757500   26.205000   26.752501   26.315001  163649200.0   \n",
       "2016-01-04   26.342501   25.500000   25.652500   26.337500  270597600.0   \n",
       "2016-01-05   26.462500   25.602501   26.437500   25.677500  223164000.0   \n",
       "2016-01-06   25.592501   24.967501   25.139999   25.174999  273829600.0   \n",
       "2016-01-07   25.032499   24.107500   24.670000   24.112499  324377600.0   \n",
       "...                ...         ...         ...         ...          ...   \n",
       "2021-10-25  149.369995  147.619995  148.679993  148.639999   50720600.0   \n",
       "2021-10-26  150.839996  149.009995  149.330002  149.320007   60893400.0   \n",
       "2021-10-27  149.729996  148.490005  149.360001  148.850006   56094900.0   \n",
       "2021-10-28  153.169998  149.720001  149.820007  152.570007  100077900.0   \n",
       "2021-10-29  149.940002  146.410004  147.220001  149.800003  124850400.0   \n",
       "\n",
       "             Adj Close  \n",
       "Date                    \n",
       "2015-12-31   24.199892  \n",
       "2016-01-04   24.220579  \n",
       "2016-01-05   23.613626  \n",
       "2016-01-06   23.151514  \n",
       "2016-01-07   22.174419  \n",
       "...                ...  \n",
       "2021-10-25  148.234528  \n",
       "2021-10-26  148.912674  \n",
       "2021-10-27  148.443954  \n",
       "2021-10-28  152.153809  \n",
       "2021-10-29  149.391357  \n",
       "\n",
       "[1469 rows x 6 columns]"
      ]
     },
     "execution_count": 70,
     "metadata": {},
     "output_type": "execute_result"
    }
   ],
   "source": [
    "#loading stock data from yahoo finance\n",
    "df=pdd.DataReader('AAPL',data_source='yahoo',start='2016-01-01',end='2021-10-30')\n",
    "df"
   ]
  },
  {
   "cell_type": "code",
   "execution_count": 71,
   "id": "5e8d0c55",
   "metadata": {},
   "outputs": [
    {
     "data": {
      "text/plain": [
       "<function matplotlib.pyplot.show(close=None, block=None)>"
      ]
     },
     "execution_count": 71,
     "metadata": {},
     "output_type": "execute_result"
    },
    {
     "data": {
      "image/png": "[encoded data removed]",
      "text/plain": [
       "<Figure size 1152x576 with 1 Axes>"
      ]
     },
     "metadata": {
      "needs_background": "light"
     },
     "output_type": "display_data"
    }
   ],
   "source": [
    "#visualizing the data\n",
    "plt.figure(figsize=(16,8))\n",
    "plt.title('close price movement')\n",
    "plt.plot(df['Close'])\n",
    "plt.xlabel('Date',fontsize=18)\n",
    "plt.ylabel('close price in $',fontsize=18)\n",
    "plt.show"
   ]
  },
  {
   "cell_type": "code",
   "execution_count": 72,
   "id": "f6bf601d",
   "metadata": {},
   "outputs": [
    {
     "data": {
      "text/plain": [
       "Index(['High', 'Low', 'Open', 'Close', 'Volume', 'Adj Close'], dtype='object')"
      ]
     },
     "execution_count": 72,
     "metadata": {},
     "output_type": "execute_result"
    }
   ],
   "source": [
    "#listing columns\n",
    "df.columns"
   ]
  },
  {
   "cell_type": "code",
   "execution_count": 73,
   "id": "cc936c28",
   "metadata": {},
   "outputs": [
    {
     "data": {
      "text/plain": [
       "<AxesSubplot:ylabel='Frequency'>"
      ]
     },
     "execution_count": 73,
     "metadata": {},
     "output_type": "execute_result"
    },
    {
     "data": {
      "image/png": "[encoded data removed]",
      "text/plain": [
       "<Figure size 432x288 with 1 Axes>"
      ]
     },
     "metadata": {
      "needs_background": "light"
     },
     "output_type": "display_data"
    }
   ],
   "source": [
    "#histogram for open price of stock\n",
    "df.Open.plot.hist()"
   ]
  },
  {
   "cell_type": "code",
   "execution_count": 74,
   "id": "068fa4b6",
   "metadata": {},
   "outputs": [
    {
     "data": {
      "text/plain": [
       "<AxesSubplot:ylabel='Frequency'>"
      ]
     },
     "execution_count": 74,
     "metadata": {},
     "output_type": "execute_result"
    },
    {
     "data": {
      "image/png": "[encoded data removed]",
      "text/plain": [
       "<Figure size 432x288 with 1 Axes>"
      ]
     },
     "metadata": {
      "needs_background": "light"
     },
     "output_type": "display_data"
    }
   ],
   "source": [
    "#histogram for closing price of stock\n",
    "df.Close.plot.hist()"
   ]
  },
  {
   "cell_type": "code",
   "execution_count": 75,
   "id": "46328c5f",
   "metadata": {},
   "outputs": [
    {
     "data": {
      "text/plain": [
       "<AxesSubplot:ylabel='Frequency'>"
      ]
     },
     "execution_count": 75,
     "metadata": {},
     "output_type": "execute_result"
    },
    {
     "data": {
      "image/png": "[encoded data removed]",
      "text/plain": [
       "<Figure size 432x288 with 1 Axes>"
      ]
     },
     "metadata": {
      "needs_background": "light"
     },
     "output_type": "display_data"
    }
   ],
   "source": [
    "#histogram for lowest price\n",
    "df.Low.plot.hist()"
   ]
  },
  {
   "cell_type": "code",
   "execution_count": 76,
   "id": "0bfefb86",
   "metadata": {},
   "outputs": [
    {
     "data": {
      "text/plain": [
       "<AxesSubplot:ylabel='Frequency'>"
      ]
     },
     "execution_count": 76,
     "metadata": {},
     "output_type": "execute_result"
    },
    {
     "data": {
      "image/png": "[encoded data removed]",
      "text/plain": [
       "<Figure size 432x288 with 1 Axes>"
      ]
     },
     "metadata": {
      "needs_background": "light"
     },
     "output_type": "display_data"
    }
   ],
   "source": [
    "#histogram for highest price\n",
    "df.High.plot.hist()"
   ]
  },
  {
   "cell_type": "code",
   "execution_count": 77,
   "id": "32b469b2",
   "metadata": {},
   "outputs": [
    {
     "data": {
      "text/plain": [
       "63.70215462567126"
      ]
     },
     "execution_count": 77,
     "metadata": {},
     "output_type": "execute_result"
    }
   ],
   "source": [
    "#mean of the data\n",
    "np.mean(df.Open)"
   ]
  },
  {
   "cell_type": "code",
   "execution_count": 78,
   "id": "4a71624a",
   "metadata": {},
   "outputs": [
    {
     "data": {
      "text/plain": [
       "47.599998474121094"
      ]
     },
     "execution_count": 78,
     "metadata": {},
     "output_type": "execute_result"
    }
   ],
   "source": [
    "#median of the data\n",
    "np.median(df.Close)"
   ]
  },
  {
   "cell_type": "code",
   "execution_count": 79,
   "id": "e5749f91",
   "metadata": {},
   "outputs": [
    {
     "data": {
      "text/html": [
       "<div>\n",
       "<style scoped>\n",
       "    .dataframe tbody tr th:only-of-type {\n",
       "        vertical-align: middle;\n",
       "    }\n",
       "\n",
       "    .dataframe tbody tr th {\n",
       "        vertical-align: top;\n",
       "    }\n",
       "\n",
       "    .dataframe thead th {\n",
       "        text-align: right;\n",
       "    }\n",
       "</style>\n",
       "<table border=\"1\" class=\"dataframe\">\n",
       "  <thead>\n",
       "    <tr style=\"text-align: right;\">\n",
       "      <th></th>\n",
       "      <th>High</th>\n",
       "      <th>Low</th>\n",
       "      <th>Open</th>\n",
       "      <th>Close</th>\n",
       "      <th>Volume</th>\n",
       "      <th>Adj Close</th>\n",
       "    </tr>\n",
       "  </thead>\n",
       "  <tbody>\n",
       "    <tr>\n",
       "      <th>count</th>\n",
       "      <td>1469.000000</td>\n",
       "      <td>1469.000000</td>\n",
       "      <td>1469.000000</td>\n",
       "      <td>1469.000000</td>\n",
       "      <td>1.469000e+03</td>\n",
       "      <td>1469.000000</td>\n",
       "    </tr>\n",
       "    <tr>\n",
       "      <th>mean</th>\n",
       "      <td>64.377914</td>\n",
       "      <td>63.046601</td>\n",
       "      <td>63.702155</td>\n",
       "      <td>63.744911</td>\n",
       "      <td>1.273564e+08</td>\n",
       "      <td>62.349046</td>\n",
       "    </tr>\n",
       "    <tr>\n",
       "      <th>std</th>\n",
       "      <td>38.734627</td>\n",
       "      <td>37.808086</td>\n",
       "      <td>38.292589</td>\n",
       "      <td>38.290529</td>\n",
       "      <td>5.990780e+07</td>\n",
       "      <td>38.698951</td>\n",
       "    </tr>\n",
       "    <tr>\n",
       "      <th>min</th>\n",
       "      <td>22.917500</td>\n",
       "      <td>22.367500</td>\n",
       "      <td>22.500000</td>\n",
       "      <td>22.584999</td>\n",
       "      <td>4.544800e+07</td>\n",
       "      <td>21.009533</td>\n",
       "    </tr>\n",
       "    <tr>\n",
       "      <th>25%</th>\n",
       "      <td>37.555000</td>\n",
       "      <td>36.709999</td>\n",
       "      <td>37.174999</td>\n",
       "      <td>37.244999</td>\n",
       "      <td>8.756040e+07</td>\n",
       "      <td>35.447853</td>\n",
       "    </tr>\n",
       "    <tr>\n",
       "      <th>50%</th>\n",
       "      <td>47.967499</td>\n",
       "      <td>47.267502</td>\n",
       "      <td>47.507500</td>\n",
       "      <td>47.599998</td>\n",
       "      <td>1.109348e+08</td>\n",
       "      <td>45.968616</td>\n",
       "    </tr>\n",
       "    <tr>\n",
       "      <th>75%</th>\n",
       "      <td>80.974998</td>\n",
       "      <td>79.552498</td>\n",
       "      <td>80.232498</td>\n",
       "      <td>80.362503</td>\n",
       "      <td>1.481588e+08</td>\n",
       "      <td>79.085510</td>\n",
       "    </tr>\n",
       "    <tr>\n",
       "      <th>max</th>\n",
       "      <td>157.259995</td>\n",
       "      <td>154.389999</td>\n",
       "      <td>156.979996</td>\n",
       "      <td>156.690002</td>\n",
       "      <td>5.334788e+08</td>\n",
       "      <td>156.262573</td>\n",
       "    </tr>\n",
       "  </tbody>\n",
       "</table>\n",
       "</div>"
      ],
      "text/plain": [
       "              High          Low         Open        Close        Volume  \\\n",
       "count  1469.000000  1469.000000  1469.000000  1469.000000  1.469000e+03   \n",
       "mean     64.377914    63.046601    63.702155    63.744911  1.273564e+08   \n",
       "std      38.734627    37.808086    38.292589    38.290529  5.990780e+07   \n",
       "min      22.917500    22.367500    22.500000    22.584999  4.544800e+07   \n",
       "25%      37.555000    36.709999    37.174999    37.244999  8.756040e+07   \n",
       "50%      47.967499    47.267502    47.507500    47.599998  1.109348e+08   \n",
       "75%      80.974998    79.552498    80.232498    80.362503  1.481588e+08   \n",
       "max     157.259995   154.389999   156.979996   156.690002  5.334788e+08   \n",
       "\n",
       "         Adj Close  \n",
       "count  1469.000000  \n",
       "mean     62.349046  \n",
       "std      38.698951  \n",
       "min      21.009533  \n",
       "25%      35.447853  \n",
       "50%      45.968616  \n",
       "75%      79.085510  \n",
       "max     156.262573  "
      ]
     },
     "execution_count": 79,
     "metadata": {},
     "output_type": "execute_result"
    }
   ],
   "source": [
    "#describing data\n",
    "df.describe(include=\"all\")"
   ]
  },
  {
   "cell_type": "code",
   "execution_count": 80,
   "id": "2a785d10",
   "metadata": {},
   "outputs": [
    {
     "name": "stdout",
     "output_type": "stream",
     "text": [
      "<class 'pandas.core.frame.DataFrame'>\n",
      "DatetimeIndex: 1469 entries, 2015-12-31 to 2021-10-29\n",
      "Data columns (total 6 columns):\n",
      " #   Column     Non-Null Count  Dtype  \n",
      "---  ------     --------------  -----  \n",
      " 0   High       1469 non-null   float64\n",
      " 1   Low        1469 non-null   float64\n",
      " 2   Open       1469 non-null   float64\n",
      " 3   Close      1469 non-null   float64\n",
      " 4   Volume     1469 non-null   float64\n",
      " 5   Adj Close  1469 non-null   float64\n",
      "dtypes: float64(6)\n",
      "memory usage: 80.3 KB\n"
     ]
    }
   ],
   "source": [
    "#information about data\n",
    "df.info()"
   ]
  },
  {
   "cell_type": "code",
   "execution_count": 81,
   "id": "5a45a8b6",
   "metadata": {},
   "outputs": [
    {
     "data": {
      "text/plain": [
       "array([[<AxesSubplot:title={'center':'High'}>,\n",
       "        <AxesSubplot:title={'center':'Low'}>],\n",
       "       [<AxesSubplot:title={'center':'Open'}>,\n",
       "        <AxesSubplot:title={'center':'Close'}>],\n",
       "       [<AxesSubplot:title={'center':'Volume'}>,\n",
       "        <AxesSubplot:title={'center':'Adj Close'}>]], dtype=object)"
      ]
     },
     "execution_count": 81,
     "metadata": {},
     "output_type": "execute_result"
    },
    {
     "data": {
      "image/png": "[encoded data removed]",
      "text/plain": [
       "<Figure size 1440x1440 with 6 Axes>"
      ]
     },
     "metadata": {
      "needs_background": "light"
     },
     "output_type": "display_data"
    }
   ],
   "source": [
    "#representing all data in the form of histogram\n",
    "import matplotlib.pyplot as plt\n",
    "%matplotlib inline\n",
    "\n",
    "df.hist(figsize=(20,20))"
   ]
  },
  {
   "cell_type": "code",
   "execution_count": 82,
   "id": "095ece48",
   "metadata": {},
   "outputs": [
    {
     "data": {
      "text/html": [
       "<div>\n",
       "<style scoped>\n",
       "    .dataframe tbody tr th:only-of-type {\n",
       "        vertical-align: middle;\n",
       "    }\n",
       "\n",
       "    .dataframe tbody tr th {\n",
       "        vertical-align: top;\n",
       "    }\n",
       "\n",
       "    .dataframe thead th {\n",
       "        text-align: right;\n",
       "    }\n",
       "</style>\n",
       "<table border=\"1\" class=\"dataframe\">\n",
       "  <thead>\n",
       "    <tr style=\"text-align: right;\">\n",
       "      <th></th>\n",
       "      <th>High</th>\n",
       "      <th>Low</th>\n",
       "      <th>Open</th>\n",
       "      <th>Close</th>\n",
       "      <th>Volume</th>\n",
       "      <th>Adj Close</th>\n",
       "    </tr>\n",
       "  </thead>\n",
       "  <tbody>\n",
       "    <tr>\n",
       "      <th>High</th>\n",
       "      <td>1.000000</td>\n",
       "      <td>0.999702</td>\n",
       "      <td>0.999833</td>\n",
       "      <td>0.999788</td>\n",
       "      <td>-0.179141</td>\n",
       "      <td>0.999769</td>\n",
       "    </tr>\n",
       "    <tr>\n",
       "      <th>Low</th>\n",
       "      <td>0.999702</td>\n",
       "      <td>1.000000</td>\n",
       "      <td>0.999760</td>\n",
       "      <td>0.999793</td>\n",
       "      <td>-0.193566</td>\n",
       "      <td>0.999768</td>\n",
       "    </tr>\n",
       "    <tr>\n",
       "      <th>Open</th>\n",
       "      <td>0.999833</td>\n",
       "      <td>0.999760</td>\n",
       "      <td>1.000000</td>\n",
       "      <td>0.999597</td>\n",
       "      <td>-0.185247</td>\n",
       "      <td>0.999570</td>\n",
       "    </tr>\n",
       "    <tr>\n",
       "      <th>Close</th>\n",
       "      <td>0.999788</td>\n",
       "      <td>0.999793</td>\n",
       "      <td>0.999597</td>\n",
       "      <td>1.000000</td>\n",
       "      <td>-0.187007</td>\n",
       "      <td>0.999975</td>\n",
       "    </tr>\n",
       "    <tr>\n",
       "      <th>Volume</th>\n",
       "      <td>-0.179141</td>\n",
       "      <td>-0.193566</td>\n",
       "      <td>-0.185247</td>\n",
       "      <td>-0.187007</td>\n",
       "      <td>1.000000</td>\n",
       "      <td>-0.186512</td>\n",
       "    </tr>\n",
       "    <tr>\n",
       "      <th>Adj Close</th>\n",
       "      <td>0.999769</td>\n",
       "      <td>0.999768</td>\n",
       "      <td>0.999570</td>\n",
       "      <td>0.999975</td>\n",
       "      <td>-0.186512</td>\n",
       "      <td>1.000000</td>\n",
       "    </tr>\n",
       "  </tbody>\n",
       "</table>\n",
       "</div>"
      ],
      "text/plain": [
       "               High       Low      Open     Close    Volume  Adj Close\n",
       "High       1.000000  0.999702  0.999833  0.999788 -0.179141   0.999769\n",
       "Low        0.999702  1.000000  0.999760  0.999793 -0.193566   0.999768\n",
       "Open       0.999833  0.999760  1.000000  0.999597 -0.185247   0.999570\n",
       "Close      0.999788  0.999793  0.999597  1.000000 -0.187007   0.999975\n",
       "Volume    -0.179141 -0.193566 -0.185247 -0.187007  1.000000  -0.186512\n",
       "Adj Close  0.999769  0.999768  0.999570  0.999975 -0.186512   1.000000"
      ]
     },
     "execution_count": 82,
     "metadata": {},
     "output_type": "execute_result"
    }
   ],
   "source": [
    "#correctig data\n",
    "corr = df.corr()\n",
    "corr"
   ]
  },
  {
   "cell_type": "code",
   "execution_count": 83,
   "id": "50768fd1",
   "metadata": {},
   "outputs": [],
   "source": [
    "#reshaping data\n",
    "df = df['Open'].values\n",
    "df = df.reshape(-1, 1)"
   ]
  },
  {
   "cell_type": "code",
   "execution_count": 84,
   "id": "0a38a459",
   "metadata": {},
   "outputs": [],
   "source": [
    "#splitting data for training and testing\n",
    "dataset_train = np.array(df[:int(df.shape[0]*0.8)])\n",
    "dataset_test = np.array(df[int(df.shape[0]*0.8):])"
   ]
  },
  {
   "cell_type": "code",
   "execution_count": 85,
   "id": "6d8d9fa4",
   "metadata": {},
   "outputs": [],
   "source": [
    "#scaling data\n",
    "scaler = MinMaxScaler(feature_range=(0,1))\n",
    "dataset_train = scaler.fit_transform(dataset_train)\n",
    "dataset_test = scaler.transform(dataset_test)"
   ]
  },
  {
   "cell_type": "code",
   "execution_count": 86,
   "id": "abfe5c25",
   "metadata": {},
   "outputs": [],
   "source": [
    "#function to create dataset\n",
    "def create_dataset(df):\n",
    "    x = []\n",
    "    y = []\n",
    "    for i in range(50, df.shape[0]):\n",
    "        x.append(df[i-50:i, 0])\n",
    "        y.append(df[i, 0])\n",
    "    x = np.array(x)\n",
    "    y = np.array(y)\n",
    "    return x,y"
   ]
  },
  {
   "cell_type": "code",
   "execution_count": 87,
   "id": "b449fefd",
   "metadata": {},
   "outputs": [],
   "source": [
    "#creating training and testing dataset\n",
    "x_train, y_train = create_dataset(dataset_train)\n",
    "x_test, y_test = create_dataset(dataset_test)"
   ]
  },
  {
   "cell_type": "code",
   "execution_count": 88,
   "id": "46ad52e3",
   "metadata": {},
   "outputs": [],
   "source": [
    "#reshaping dataset\n",
    "x_train = np.reshape(x_train, (x_train.shape[0], x_train.shape[1], 1))\n",
    "x_test = np.reshape(x_test, (x_test.shape[0], x_test.shape[1], 1))"
   ]
  },
  {
   "cell_type": "code",
   "execution_count": 89,
   "id": "0860d464",
   "metadata": {},
   "outputs": [],
   "source": [
    "#model building\n",
    "model = Sequential()\n",
    "model.add(LSTM(units=96, return_sequences=True, input_shape=(x_train.shape[1], 1)))\n",
    "model.add(Dropout(0.2))\n",
    "model.add(LSTM(units=96,return_sequences=True))\n",
    "model.add(Dropout(0.2))\n",
    "model.add(LSTM(units=96,return_sequences=True))\n",
    "model.add(Dropout(0.2))\n",
    "model.add(LSTM(units=96))\n",
    "model.add(Dropout(0.2))\n",
    "model.add(Dense(units=1))"
   ]
  },
  {
   "cell_type": "code",
   "execution_count": 90,
   "id": "48f6d2c7",
   "metadata": {},
   "outputs": [],
   "source": [
    "#reshaping data for lstm\n",
    "x_train = np.reshape(x_train, (x_train.shape[0], x_train.shape[1], 1))\n",
    "x_test = np.reshape(x_test, (x_test.shape[0], x_test.shape[1], 1))"
   ]
  },
  {
   "cell_type": "code",
   "execution_count": 91,
   "id": "c49110d8",
   "metadata": {},
   "outputs": [],
   "source": [
    "#compiling the model\n",
    "model.compile(loss='mean_squared_error', optimizer='adam')"
   ]
  },
  {
   "cell_type": "code",
   "execution_count": 92,
   "id": "7769bc41",
   "metadata": {},
   "outputs": [
    {
     "name": "stdout",
     "output_type": "stream",
     "text": [
      "Epoch 1/50\n",
      "36/36 [==============================] - 9s 102ms/step - loss: 0.0098\n",
      "Epoch 2/50\n",
      "36/36 [==============================] - 4s 103ms/step - loss: 0.0018\n",
      "Epoch 3/50\n",
      "36/36 [==============================] - 4s 103ms/step - loss: 0.0017\n",
      "Epoch 4/50\n",
      "36/36 [==============================] - 4s 103ms/step - loss: 0.0016\n",
      "Epoch 5/50\n",
      "36/36 [==============================] - 4s 105ms/step - loss: 0.0011\n",
      "Epoch 6/50\n",
      "36/36 [==============================] - 4s 116ms/step - loss: 0.0015\n",
      "Epoch 7/50\n",
      "36/36 [==============================] - 4s 114ms/step - loss: 0.0013\n",
      "Epoch 8/50\n",
      "36/36 [==============================] - 4s 120ms/step - loss: 0.0015\n",
      "Epoch 9/50\n",
      "36/36 [==============================] - 4s 125ms/step - loss: 0.0013\n",
      "Epoch 10/50\n",
      "36/36 [==============================] - 4s 121ms/step - loss: 0.0014\n",
      "Epoch 11/50\n",
      "36/36 [==============================] - 4s 115ms/step - loss: 9.8450e-04\n",
      "Epoch 12/50\n",
      "36/36 [==============================] - 4s 117ms/step - loss: 9.7418e-04\n",
      "Epoch 13/50\n",
      "36/36 [==============================] - 4s 119ms/step - loss: 0.0011\n",
      "Epoch 14/50\n",
      "36/36 [==============================] - 4s 123ms/step - loss: 9.4488e-04\n",
      "Epoch 15/50\n",
      "36/36 [==============================] - 4s 120ms/step - loss: 9.5866e-04\n",
      "Epoch 16/50\n",
      "36/36 [==============================] - 4s 124ms/step - loss: 9.1087e-04\n",
      "Epoch 17/50\n",
      "36/36 [==============================] - 4s 106ms/step - loss: 9.3899e-04\n",
      "Epoch 18/50\n",
      "36/36 [==============================] - 4s 104ms/step - loss: 9.9902e-04\n",
      "Epoch 19/50\n",
      "36/36 [==============================] - 4s 102ms/step - loss: 9.3354e-04\n",
      "Epoch 20/50\n",
      "36/36 [==============================] - 4s 105ms/step - loss: 0.0010\n",
      "Epoch 21/50\n",
      "36/36 [==============================] - 4s 105ms/step - loss: 7.9599e-04\n",
      "Epoch 22/50\n",
      "36/36 [==============================] - 4s 103ms/step - loss: 7.5384e-04\n",
      "Epoch 23/50\n",
      "36/36 [==============================] - 4s 103ms/step - loss: 8.2679e-04\n",
      "Epoch 24/50\n",
      "36/36 [==============================] - 4s 103ms/step - loss: 8.6359e-04\n",
      "Epoch 25/50\n",
      "36/36 [==============================] - 4s 103ms/step - loss: 9.1123e-04\n",
      "Epoch 26/50\n",
      "36/36 [==============================] - 4s 105ms/step - loss: 8.1457e-04\n",
      "Epoch 27/50\n",
      "36/36 [==============================] - 4s 105ms/step - loss: 7.6610e-04\n",
      "Epoch 28/50\n",
      "36/36 [==============================] - 4s 105ms/step - loss: 7.3557e-04\n",
      "Epoch 29/50\n",
      "36/36 [==============================] - 4s 102ms/step - loss: 6.9386e-04\n",
      "Epoch 30/50\n",
      "36/36 [==============================] - 4s 111ms/step - loss: 7.2119e-04\n",
      "Epoch 31/50\n",
      "36/36 [==============================] - 4s 105ms/step - loss: 8.2787e-04\n",
      "Epoch 32/50\n",
      "36/36 [==============================] - 4s 104ms/step - loss: 6.9616e-04\n",
      "Epoch 33/50\n",
      "36/36 [==============================] - 4s 103ms/step - loss: 7.6484e-04\n",
      "Epoch 34/50\n",
      "36/36 [==============================] - 4s 103ms/step - loss: 7.0133e-04\n",
      "Epoch 35/50\n",
      "36/36 [==============================] - 4s 103ms/step - loss: 6.8307e-04\n",
      "Epoch 36/50\n",
      "36/36 [==============================] - 4s 102ms/step - loss: 6.7175e-04\n",
      "Epoch 37/50\n",
      "36/36 [==============================] - 4s 103ms/step - loss: 7.6786e-04\n",
      "Epoch 38/50\n",
      "36/36 [==============================] - 4s 102ms/step - loss: 8.2769e-04\n",
      "Epoch 39/50\n",
      "36/36 [==============================] - 4s 103ms/step - loss: 6.8957e-04\n",
      "Epoch 40/50\n",
      "36/36 [==============================] - 4s 103ms/step - loss: 8.3775e-04\n",
      "Epoch 41/50\n",
      "36/36 [==============================] - 4s 104ms/step - loss: 6.6729e-04\n",
      "Epoch 42/50\n",
      "36/36 [==============================] - 4s 105ms/step - loss: 8.5837e-04\n",
      "Epoch 43/50\n",
      "36/36 [==============================] - 4s 109ms/step - loss: 6.6704e-04\n",
      "Epoch 44/50\n",
      "36/36 [==============================] - 4s 113ms/step - loss: 7.0649e-04\n",
      "Epoch 45/50\n",
      "36/36 [==============================] - 4s 115ms/step - loss: 9.0289e-04\n",
      "Epoch 46/50\n",
      "36/36 [==============================] - 4s 117ms/step - loss: 5.8138e-04\n",
      "Epoch 47/50\n",
      "36/36 [==============================] - 4s 118ms/step - loss: 6.7673e-04\n",
      "Epoch 48/50\n",
      "36/36 [==============================] - 4s 121ms/step - loss: 5.9126e-04\n",
      "Epoch 49/50\n",
      "36/36 [==============================] - 4s 122ms/step - loss: 7.1901e-04\n",
      "Epoch 50/50\n",
      "36/36 [==============================] - 4s 121ms/step - loss: 7.1602e-04\n"
     ]
    }
   ],
   "source": [
    "#saving the model and start training\n",
    "model.fit(x_train, y_train, epochs=50, batch_size=32)\n",
    "model.save('stock_prediction.h5')"
   ]
  },
  {
   "cell_type": "code",
   "execution_count": 93,
   "id": "206c9ed3",
   "metadata": {},
   "outputs": [],
   "source": [
    "#loading the model\n",
    "model = load_model('stock_prediction.h5')"
   ]
  },
  {
   "cell_type": "code",
   "execution_count": 94,
   "id": "a6c7ca24",
   "metadata": {},
   "outputs": [
    {
     "data": {
      "text/plain": [
       "<matplotlib.legend.Legend at 0x2434d00a6a0>"
      ]
     },
     "execution_count": 94,
     "metadata": {},
     "output_type": "execute_result"
    },
    {
     "data": {
      "image/png": "[encoded data removed]",
      "text/plain": [
       "<Figure size 1152x576 with 1 Axes>"
      ]
     },
     "metadata": {
      "needs_background": "light"
     },
     "output_type": "display_data"
    }
   ],
   "source": [
    "#visualizing the result\n",
    "predictions = model.predict(x_test)\n",
    "predictions = scaler.inverse_transform(predictions)\n",
    "y_test_scaled = scaler.inverse_transform(y_test.reshape(-1, 1))\n",
    "\n",
    "fig, ax = plt.subplots(figsize=(16,8))\n",
    "ax.set_facecolor('#FFE7BA')\n",
    "ax.plot(y_test_scaled, color='red', label='Original price')\n",
    "plt.plot(predictions, color='green', label='Predicted price')\n",
    "plt.legend()"
   ]
  },
  {
   "cell_type": "code",
   "execution_count": null,
   "id": "889333b4",
   "metadata": {},
   "outputs": [],
   "source": []
  }
 ],
 "metadata": {
  "kernelspec": {
   "display_name": "Python 3 (ipykernel)",
   "language": "python",
   "name": "python3"
  },
  "language_info": {
   "codemirror_mode": {
    "name": "ipython",
    "version": 3
   },
   "file_extension": ".py",
   "mimetype": "text/x-python",
   "name": "python",
   "nbconvert_exporter": "python",
   "pygments_lexer": "ipython3",
   "version": "3.9.7"
  }
 },
 "nbformat": 4,
 "nbformat_minor": 5
}
